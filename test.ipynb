{
 "cells": [
  {
   "cell_type": "code",
   "execution_count": 7,
   "metadata": {},
   "outputs": [],
   "source": [
    "import cv2\n",
    "import glob\n",
    "import pandas as pd\n",
    "\n",
    "import time\n",
    "from tensorflow import keras\n",
    "model = keras.models.load_model('firstModel')\n",
    "import numpy as np"
   ]
  },
  {
   "cell_type": "code",
   "execution_count": 22,
   "metadata": {},
   "outputs": [],
   "source": [
    "sign_alphabet = [\n",
    "    *glob.glob(\"data/saved.jpg\"),\n",
    "]"
   ]
  },
  {
   "cell_type": "code",
   "execution_count": 23,
   "metadata": {},
   "outputs": [],
   "source": [
    "pics = dict()\n",
    "for foto in sign_alphabet:\n",
    "    label = foto.split(\"/\")[-1]\n",
    "    pic = foto\n",
    "    if label in pics:\n",
    "        pics[label].append(pic)\n",
    "    else:\n",
    "        pics[label] = [pic]"
   ]
  },
  {
   "cell_type": "code",
   "execution_count": 24,
   "metadata": {},
   "outputs": [
    {
     "data": {
      "text/html": [
       "<div>\n",
       "<style scoped>\n",
       "    .dataframe tbody tr th:only-of-type {\n",
       "        vertical-align: middle;\n",
       "    }\n",
       "\n",
       "    .dataframe tbody tr th {\n",
       "        vertical-align: top;\n",
       "    }\n",
       "\n",
       "    .dataframe thead th {\n",
       "        text-align: right;\n",
       "    }\n",
       "</style>\n",
       "<table border=\"1\" class=\"dataframe\">\n",
       "  <thead>\n",
       "    <tr style=\"text-align: right;\">\n",
       "      <th></th>\n",
       "      <th>label</th>\n",
       "      <th>foto</th>\n",
       "    </tr>\n",
       "  </thead>\n",
       "  <tbody>\n",
       "    <tr>\n",
       "      <th>0</th>\n",
       "      <td>saved.jpg</td>\n",
       "      <td>data/saved.jpg</td>\n",
       "    </tr>\n",
       "  </tbody>\n",
       "</table>\n",
       "</div>"
      ],
      "text/plain": [
       "       label            foto\n",
       "0  saved.jpg  data/saved.jpg"
      ]
     },
     "execution_count": 24,
     "metadata": {},
     "output_type": "execute_result"
    }
   ],
   "source": [
    "im = []\n",
    "for k,v in pics.items():\n",
    "    for a in v:\n",
    "        im.append([k,a])\n",
    "test =  pd.DataFrame(im, columns=[\"label\",\"foto\"])\n",
    "test = test.sort_values(by='label',)\n",
    "test.head()\n",
    "\n",
    "test"
   ]
  },
  {
   "cell_type": "code",
   "execution_count": 25,
   "metadata": {},
   "outputs": [
    {
     "data": {
      "text/plain": [
       "7"
      ]
     },
     "execution_count": 25,
     "metadata": {},
     "output_type": "execute_result"
    }
   ],
   "source": [
    "letters = ['A','B','C','D','E','F','G']\n",
    "number_of_classes = len(letters)\n",
    "img_size = (100,100)\n",
    "number_of_samples=500\n",
    "number_of_classes"
   ]
  },
  {
   "cell_type": "code",
   "execution_count": 26,
   "metadata": {},
   "outputs": [],
   "source": [
    "def normalize_image(picFile):\n",
    "    im = cv2.imread(picFile)    \n",
    "    im_bw = cv2.cvtColor(im, cv2.COLOR_RGB2GRAY)\n",
    "    im_bw = cv2.resize(im_bw, img_size, interpolation=cv2.INTER_AREA)\n",
    "#     ret,binary_image = cv2.threshold(im_bw,60,255,cv2.THRESH_BINARY)\n",
    "\n",
    "    return im_bw/255"
   ]
  },
  {
   "cell_type": "code",
   "execution_count": 27,
   "metadata": {},
   "outputs": [
    {
     "data": {
      "text/html": [
       "<div>\n",
       "<style scoped>\n",
       "    .dataframe tbody tr th:only-of-type {\n",
       "        vertical-align: middle;\n",
       "    }\n",
       "\n",
       "    .dataframe tbody tr th {\n",
       "        vertical-align: top;\n",
       "    }\n",
       "\n",
       "    .dataframe thead th {\n",
       "        text-align: right;\n",
       "    }\n",
       "</style>\n",
       "<table border=\"1\" class=\"dataframe\">\n",
       "  <thead>\n",
       "    <tr style=\"text-align: right;\">\n",
       "      <th></th>\n",
       "      <th>label</th>\n",
       "      <th>foto</th>\n",
       "      <th>normalized_image</th>\n",
       "    </tr>\n",
       "  </thead>\n",
       "  <tbody>\n",
       "    <tr>\n",
       "      <th>0</th>\n",
       "      <td>saved.jpg</td>\n",
       "      <td>data/saved.jpg</td>\n",
       "      <td>[[0.34901960784313724, 0.34509803921568627, 0....</td>\n",
       "    </tr>\n",
       "  </tbody>\n",
       "</table>\n",
       "</div>"
      ],
      "text/plain": [
       "       label            foto  \\\n",
       "0  saved.jpg  data/saved.jpg   \n",
       "\n",
       "                                    normalized_image  \n",
       "0  [[0.34901960784313724, 0.34509803921568627, 0....  "
      ]
     },
     "execution_count": 27,
     "metadata": {},
     "output_type": "execute_result"
    }
   ],
   "source": [
    "test[\"normalized_image\"] = test.foto.apply(lambda path: normalize_image(path))\n",
    "test"
   ]
  },
  {
   "cell_type": "code",
   "execution_count": 28,
   "metadata": {},
   "outputs": [
    {
     "data": {
      "text/plain": [
       "0    [[0.34901960784313724, 0.34509803921568627, 0....\n",
       "Name: normalized_image, dtype: object"
      ]
     },
     "execution_count": 28,
     "metadata": {},
     "output_type": "execute_result"
    }
   ],
   "source": [
    "test.normalized_image"
   ]
  },
  {
   "cell_type": "code",
   "execution_count": 31,
   "metadata": {},
   "outputs": [],
   "source": [
    "X_test = np.stack(test.normalized_image, axis=0) \n",
    "X_test = X_test.reshape(X_test.shape[0],img_size[0],img_size[1],1)\n",
    "# X_test"
   ]
  },
  {
   "cell_type": "code",
   "execution_count": 34,
   "metadata": {},
   "outputs": [
    {
     "data": {
      "text/plain": [
       "array(['B'], dtype='<U1')"
      ]
     },
     "execution_count": 34,
     "metadata": {},
     "output_type": "execute_result"
    }
   ],
   "source": [
    "letters = ['A','B','C','D','E','F','G']\n",
    "uniques, ids = np.unique(letters, return_inverse=True)\n",
    "x_pred = model.predict(X_test)\n",
    "uniques[x_pred.argmax(1)]\n"
   ]
  },
  {
   "cell_type": "code",
   "execution_count": 33,
   "metadata": {},
   "outputs": [
    {
     "data": {
      "text/plain": [
       "array([[5.5810838e-04, 9.0939945e-01, 4.6880555e-06, 8.5621394e-02,\n",
       "        8.6804671e-04, 3.5483546e-03, 2.0675399e-09]], dtype=float32)"
      ]
     },
     "execution_count": 33,
     "metadata": {},
     "output_type": "execute_result"
    }
   ],
   "source": [
    "x_pred"
   ]
  },
  {
   "cell_type": "code",
   "execution_count": null,
   "metadata": {},
   "outputs": [],
   "source": []
  }
 ],
 "metadata": {
  "kernelspec": {
   "display_name": "Python 3",
   "language": "python",
   "name": "python3"
  },
  "language_info": {
   "codemirror_mode": {
    "name": "ipython",
    "version": 3
   },
   "file_extension": ".py",
   "mimetype": "text/x-python",
   "name": "python",
   "nbconvert_exporter": "python",
   "pygments_lexer": "ipython3",
   "version": "3.6.12"
  }
 },
 "nbformat": 4,
 "nbformat_minor": 4
}
